{
 "cells": [
  {
   "cell_type": "markdown",
   "execution_count": null,
   "metadata": {
    "papermill": {
     "duration": 0.015576,
     "end_time": "2020-08-23T19:17:58.261872",
     "exception": false,
     "start_time": "2020-08-23T19:17:58.246296",
     "status": "completed"
    },
    "tags": []
   },
   "source": [
    "# 1. End-to-end model: CT scans latent features + Tabular features\n",
    "This model is a simple end-to-end solution that uses CT scans latent features and tabular features to generate predictions.\n",
    "\n",
    "The CT scans latent features are obtained by encoding pre-processed 3D CT scan tensors, using a pre-trained AutoEncoder for that. \n",
    "\n",
    "The tabular features are obtained by pre-processing the tabular data (more about it [here](https://www.kaggle.com/carlossouza/quantile-regression-pytorch-tabular-data-only)).\n",
    "\n",
    "I am not including here the code used to train the AutoEncoder. I pretrained it in another notebook, and saved the weights in a [public dataset](https://www.kaggle.com/carlossouza/osicautoencoder).\n",
    "\n",
    "The overal model looks like the image below:\n",
    "![image](https://i.ibb.co/N65VVMp/final-5f18d00d86a6870013068112-270220.gif)\n",
    "\n",
    "This version runs on CPU, end-to-end. However, it is slow. Improvements/next steps at the end."
   ]
  },
  {
   "cell_type": "markdown",
   "execution_count": null,
   "metadata": {
    "papermill": {
     "duration": 0.009155,
     "end_time": "2020-08-23T19:17:58.281662",
     "exception": false,
     "start_time": "2020-08-23T19:17:58.272507",
     "status": "completed"
    },
    "tags": []
   },
   "source": [
    "# 2. Imports and global variables"
   ]
  },
  {
   "cell_type": "code",
   "execution_count": 1,
   "metadata": {
    "execution": {
     "iopub.execute_input": "2020-08-23T19:17:58.307504Z",
     "iopub.status.busy": "2020-08-23T19:17:58.306752Z",
     "iopub.status.idle": "2020-08-23T19:17:58.310137Z",
     "shell.execute_reply": "2020-08-23T19:17:58.309523Z"
    },
    "papermill": {
     "duration": 0.018936,
     "end_time": "2020-08-23T19:17:58.310266",
     "exception": false,
     "start_time": "2020-08-23T19:17:58.291330",
     "status": "completed"
    },
    "tags": []
   },
   "outputs": [],
   "source": [
    "use_TPU = False"
   ]
  },
  {
   "cell_type": "code",
   "execution_count": 2,
   "metadata": {
    "execution": {
     "iopub.execute_input": "2020-08-23T19:17:58.338471Z",
     "iopub.status.busy": "2020-08-23T19:17:58.337614Z",
     "iopub.status.idle": "2020-08-23T19:17:58.340861Z",
     "shell.execute_reply": "2020-08-23T19:17:58.339900Z"
    },
    "papermill": {
     "duration": 0.019865,
     "end_time": "2020-08-23T19:17:58.341026",
     "exception": false,
     "start_time": "2020-08-23T19:17:58.321161",
     "status": "completed"
    },
    "tags": []
   },
   "outputs": [],
   "source": [
    "if use_TPU:\n",
    "    !curl https://raw.githubusercontent.com/pytorch/xla/master/contrib/scripts/env-setup.py -o pytorch-xla-env-setup.py\n",
    "    !python pytorch-xla-env-setup.py --version nightly --apt-packages libomp5 libopenblas-dev"
   ]
  },
  {
   "cell_type": "code",
   "execution_count": 3,
   "metadata": {
    "execution": {
     "iopub.execute_input": "2020-08-23T19:17:58.373239Z",
     "iopub.status.busy": "2020-08-23T19:17:58.372305Z",
     "iopub.status.idle": "2020-08-23T19:17:58.375399Z",
     "shell.execute_reply": "2020-08-23T19:17:58.374707Z"
    },
    "papermill": {
     "duration": 0.021163,
     "end_time": "2020-08-23T19:17:58.375557",
     "exception": false,
     "start_time": "2020-08-23T19:17:58.354394",
     "status": "completed"
    },
    "tags": []
   },
   "outputs": [],
   "source": [
    "if use_TPU:\n",
    "    import torch_xla\n",
    "    import torch_xla.debug.metrics as met\n",
    "    import torch_xla.distributed.parallel_loader as pl\n",
    "    import torch_xla.utils.utils as xu\n",
    "    import torch_xla.core.xla_model as xm\n",
    "    import torch_xla.distributed.xla_multiprocessing as xmp\n",
    "    import torch_xla.test.test_utils as test_utils\n",
    "\n",
    "    import warnings\n",
    "    warnings.filterwarnings(\"ignore\")"
   ]
  },
  {
   "cell_type": "code",
   "execution_count": 4,
   "metadata": {
    "execution": {
     "iopub.execute_input": "2020-08-23T19:17:58.407512Z",
     "iopub.status.busy": "2020-08-23T19:17:58.406807Z",
     "iopub.status.idle": "2020-08-23T19:17:58.410064Z",
     "shell.execute_reply": "2020-08-23T19:17:58.409412Z"
    },
    "papermill": {
     "duration": 0.019328,
     "end_time": "2020-08-23T19:17:58.410189",
     "exception": false,
     "start_time": "2020-08-23T19:17:58.390861",
     "status": "completed"
    },
    "tags": []
   },
   "outputs": [],
   "source": [
    "if use_TPU:\n",
    "    !export XLA_USE_BF16=1"
   ]
  },
  {
   "cell_type": "code",
   "execution_count": 5,
   "metadata": {
    "_cell_guid": "b1076dfc-b9ad-4769-8c92-a6c4dae69d19",
    "_uuid": "8f2839f25d086af736a60e9eeb907d3b93b6e0e5",
    "execution": {
     "iopub.execute_input": "2020-08-23T19:17:58.439539Z",
     "iopub.status.busy": "2020-08-23T19:17:58.438898Z",
     "iopub.status.idle": "2020-08-23T19:18:04.777229Z",
     "shell.execute_reply": "2020-08-23T19:18:04.776526Z"
    },
    "papermill": {
     "duration": 6.356504,
     "end_time": "2020-08-23T19:18:04.777378",
     "exception": false,
     "start_time": "2020-08-23T19:17:58.420874",
     "status": "completed"
    },
    "tags": []
   },
   "outputs": [],
   "source": [
    "import copy\n",
    "import os\n",
    "import glob as gb\n",
    "from datetime import datetime, timedelta\n",
    "import matplotlib.pyplot as plt\n",
    "from matplotlib import cm\n",
    "import numpy as np\n",
    "import pandas as pd\n",
    "from pathlib import Path\n",
    "import pickle\n",
    "import pydicom\n",
    "from sklearn.model_selection import GroupKFold, GroupShuffleSplit\n",
    "from torch.utils.data import Dataset\n",
    "from tqdm import tqdm\n",
    "import torch\n",
    "from torch.utils.data import DataLoader, Subset\n",
    "import torch.nn as nn\n",
    "import torch.nn.functional as F\n",
    "from tqdm import trange\n",
    "from time import time\n",
    "import warnings\n",
    "from scipy.ndimage.interpolation import zoom\n",
    "from enum import Enum\n",
    "from torchvision import transforms\n",
    "from skimage.measure import label, regionprops\n",
    "from skimage.segmentation import clear_border\n",
    "import pytest"
   ]
  },
  {
   "cell_type": "code",
   "execution_count": 6,
   "metadata": {
    "_cell_guid": "79c7e3d0-c299-4dcb-8224-4455121ee9b0",
    "_uuid": "d629ff2d2480ee46fbb7e2d37f6b5fab8052498a",
    "execution": {
     "iopub.execute_input": "2020-08-23T19:18:04.806908Z",
     "iopub.status.busy": "2020-08-23T19:18:04.806149Z",
     "iopub.status.idle": "2020-08-23T19:18:04.824743Z",
     "shell.execute_reply": "2020-08-23T19:18:04.823998Z"
    },
    "papermill": {
     "duration": 0.037571,
     "end_time": "2020-08-23T19:18:04.824916",
     "exception": false,
     "start_time": "2020-08-23T19:18:04.787345",
     "status": "completed"
    },
    "tags": []
   },
   "outputs": [],
   "source": [
    "root_dir = Path('/kaggle/input/osic-pulmonary-fibrosis-progression')\n",
    "model_dir = Path('/kaggle/working')\n",
    "### how to get this pretrained weights?\n",
    "pretrained_weigths_dir = Path('/kaggle/input/osicautoencoder')\n",
    "pretrained_ae_weigths = pretrained_weigths_dir/'barcelona-20200722.pth'\n",
    "cache_dir = Path('/kaggle/input/osic-cached-dataset')\n",
    "latent_dir = Path('/kaggle/working/latent')\n",
    "latent_dir.mkdir(exist_ok=True, parents=True)\n",
    "# num_kfolds = 5\n",
    "test_size=0.2\n",
    "batch_size = 32\n",
    "learning_rate = 1e-3\n",
    "num_epochs = 50\n",
    "quantiles = (0.2, 0.5, 0.8)\n",
    "model_name ='cauchy'\n",
    "\n",
    "if use_TPU:\n",
    "    device = xm.xla_device()\n",
    "else:\n",
    "    device = torch.device(\"cuda:0\" if torch.cuda.is_available() else \"cpu\")"
   ]
  },
  {
   "cell_type": "code",
   "execution_count": 7,
   "metadata": {
    "execution": {
     "iopub.execute_input": "2020-08-23T19:18:04.853339Z",
     "iopub.status.busy": "2020-08-23T19:18:04.852314Z",
     "iopub.status.idle": "2020-08-23T19:18:04.857234Z",
     "shell.execute_reply": "2020-08-23T19:18:04.856677Z"
    },
    "papermill": {
     "duration": 0.022202,
     "end_time": "2020-08-23T19:18:04.857360",
     "exception": false,
     "start_time": "2020-08-23T19:18:04.835158",
     "status": "completed"
    },
    "tags": []
   },
   "outputs": [
    {
     "data": {
      "text/plain": [
       "'/kaggle/working'"
      ]
     },
     "execution_count": 7,
     "metadata": {},
     "output_type": "execute_result"
    }
   ],
   "source": [
    "pwd"
   ]
  },
  {
   "cell_type": "markdown",
   "execution_count": null,
   "metadata": {
    "papermill": {
     "duration": 0.010356,
     "end_time": "2020-08-23T19:18:04.878375",
     "exception": false,
     "start_time": "2020-08-23T19:18:04.868019",
     "status": "completed"
    },
    "tags": []
   },
   "source": [
    "# 3. Dataset interface\n",
    "Now, the dataset interface not only ingests the tabular data, but also ingests and pre-process the 3D CT scans. The changes vs. [the baseline notebook](https://www.kaggle.com/carlossouza/quantile-regression-pytorch-tabular-data-only) are highlighted in the code.\n",
    "\n",
    "On the code below, again credits to [Ulrich GOUE](https://www.kaggle.com/ulrich07).\n",
    "\n",
    "The key trick here is to cache all tensors in disk, otherwise training will become extremely slow, as the bottleneck will become the DataLoader. That's because, without caching, every time ClinicalDataset is queried, it will re-preprocess and re-create 3D images from scratch. The solution below solves the problem. For perspective, without caching, loading a single sample takes ~1.5 seconds. With caching, ~6 millisencods.\n",
    "\n",
    "Another solution would be just hold all 3D images on CPU memory, as they require approx 3.7 GB with the parameters I used in preprocessing pipeline, and transfer them to GPU/TPU when needed. May be even faster. I will experiment with that later."
   ]
  },
  {
   "cell_type": "code",
   "execution_count": 8,
   "metadata": {
    "execution": {
     "iopub.execute_input": "2020-08-23T19:18:04.934981Z",
     "iopub.status.busy": "2020-08-23T19:18:04.914235Z",
     "iopub.status.idle": "2020-08-23T19:18:04.938416Z",
     "shell.execute_reply": "2020-08-23T19:18:04.937763Z"
    },
    "papermill": {
     "duration": 0.050022,
     "end_time": "2020-08-23T19:18:04.938539",
     "exception": false,
     "start_time": "2020-08-23T19:18:04.888517",
     "status": "completed"
    },
    "tags": []
   },
   "outputs": [],
   "source": [
    "class ClinicalDataset(Dataset):\n",
    "    def __init__(self, root_dir, ctscans_dir, mode,transform=None,\n",
    "                 cache_dir=None):\n",
    "        self.transform = transform\n",
    "        self.mode = mode #train, val or test\n",
    "        self.ctscans_dir = Path(ctscans_dir)\n",
    "        self.cache_dir = None if cache_dir is None else Path(cache_dir)\n",
    "\n",
    "        # If cache_dir is set, use cached values...\n",
    "        if cache_dir is not None:\n",
    "            self.raw = pd.read_csv(self.cache_dir/f'tabular_{mode}.csv')\n",
    "            with open(self.cache_dir/'features_list.pkl', \"rb\") as fp:\n",
    "                self.FE = pickle.load(fp)\n",
    "            return\n",
    "\n",
    "        # ...otherwise, pre-process\n",
    "        tr = pd.read_csv(Path(root_dir)/\"train.csv\")\n",
    "        tr.drop_duplicates(keep=False, inplace=True, subset=['Patient', 'Weeks'])\n",
    "        chunk = pd.read_csv(Path(root_dir)/\"test.csv\")\n",
    "\n",
    "        sub = pd.read_csv(Path(root_dir)/\"sample_submission.csv\")\n",
    "        sub['Patient'] = sub['Patient_Week'].apply(lambda x: x.split('_')[0])\n",
    "        sub['Weeks'] = sub['Patient_Week'].apply(lambda x: int(x.split('_')[-1]))\n",
    "        sub = sub[['Patient', 'Weeks', 'Confidence', 'Patient_Week']]\n",
    "        sub = sub.merge(chunk.drop('Weeks', axis=1), on=\"Patient\")\n",
    "\n",
    "        tr['WHERE'] = 'train'\n",
    "        chunk['WHERE'] = 'val'\n",
    "        sub['WHERE'] = 'test'\n",
    "        data = tr.append([chunk, sub])\n",
    "\n",
    "        data['min_week'] = data['Weeks']\n",
    "        data.loc[data.WHERE == 'test', 'min_week'] = np.nan\n",
    "        data['min_week'] = data.groupby('Patient')['min_week'].transform('min')\n",
    "\n",
    "        base = data.loc[data.Weeks == data.min_week]\n",
    "        base = base[['Patient', 'FVC']].copy()\n",
    "        base.columns = ['Patient', 'min_FVC']\n",
    "        base['nb'] = 1\n",
    "        base['nb'] = base.groupby('Patient')['nb'].transform('cumsum')\n",
    "        base = base[base.nb == 1]\n",
    "        base.drop('nb', axis=1, inplace=True)\n",
    "\n",
    "        data = data.merge(base, on='Patient', how='left')\n",
    "        data['base_week'] = data['Weeks'] - data['min_week']\n",
    "        del base\n",
    "\n",
    "        COLS = ['Sex', 'SmokingStatus']\n",
    "        self.FE = []\n",
    "        for col in COLS:\n",
    "            for mod in data[col].unique():\n",
    "                self.FE.append(mod)\n",
    "                data[mod] = (data[col] == mod).astype(int)\n",
    "\n",
    "        data['age'] = (data['Age'] - data['Age'].min()) / \\\n",
    "                      (data['Age'].max() - data['Age'].min())\n",
    "        data['BASE'] = (data['min_FVC'] - data['min_FVC'].min()) / \\\n",
    "                       (data['min_FVC'].max() - data['min_FVC'].min())\n",
    "        data['week'] = (data['base_week'] - data['base_week'].min()) / \\\n",
    "                       (data['base_week'].max() - data['base_week'].min())\n",
    "        data['percent'] = (data['Percent'] - data['Percent'].min()) / \\\n",
    "                          (data['Percent'].max() - data['Percent'].min())\n",
    "        self.FE += ['age', 'percent', 'week', 'BASE']\n",
    "        # we have 9 features in total\n",
    "\n",
    "        self.raw = data.loc[data.WHERE == mode].reset_index() # processed tubular data\n",
    "        del data\n",
    "\n",
    "    def __len__(self):\n",
    "        return len(self.raw)\n",
    "\n",
    "    def __getitem__(self, idx): \n",
    "        # __getitem__ is similar as set[key] and return \n",
    "        if torch.is_tensor(idx):\n",
    "            idx = idx.tolist()\n",
    "\n",
    "        patient_id = self.raw['Patient'].iloc[idx]\n",
    "        if self.cache_dir is None:\n",
    "            patient_path = self.ctscans_dir / patient_id\n",
    "            image, metadata = load_scan(patient_path)\n",
    "        else:\n",
    "            image = torch.load(self.cache_dir / f'{patient_id}.pt')\n",
    "            metadata = pydicom.read_file(self.cache_dir / f'{patient_id}.dcm')\n",
    "\n",
    "        sample = {\n",
    "            'features': self.raw[self.FE].iloc[idx].values,\n",
    "            'image': image,\n",
    "            'metadata': metadata,\n",
    "            'target': self.raw['FVC'].iloc[idx]\n",
    "        }\n",
    "        if self.transform:\n",
    "            sample = self.transform(sample)\n",
    "\n",
    "        return sample\n",
    "\n",
    "    def cache(self, cache_dir):\n",
    "        # this part is not necessary since all the cached data are already prepared in the input\n",
    "        Path(cache_dir).mkdir(exist_ok=True, parents=True)\n",
    "\n",
    "        # Cache raw features table\n",
    "        self.raw.to_csv(Path(cache_dir)/f'tabular_{self.mode}.csv', index=False)\n",
    "\n",
    "        # Cache features list\n",
    "        with open(Path(cache_dir)/'features_list.pkl', \"wb\") as fp:\n",
    "            pickle.dump(self.FE, fp)\n",
    "\n",
    "        # Cache images and metadata\n",
    "        self.raw['index'] = self.raw.index\n",
    "        idx_unique = self.raw.groupby('Patient').first()['index'].values\n",
    "        bar = tqdm(idx_unique.tolist())\n",
    "        for idx in bar:\n",
    "            sample = self[idx]\n",
    "            patient_id = sample['metadata'].PatientID\n",
    "            torch.save(sample['image'], Path(cache_dir)/f'{patient_id}.pt')\n",
    "            sample['metadata'].save_as(Path(cache_dir)/f'{patient_id}.dcm')"
   ]
  },
  {
   "cell_type": "code",
   "execution_count": 9,
   "metadata": {
    "execution": {
     "iopub.execute_input": "2020-08-23T19:18:04.976098Z",
     "iopub.status.busy": "2020-08-23T19:18:04.968197Z",
     "iopub.status.idle": "2020-08-23T19:18:04.982963Z",
     "shell.execute_reply": "2020-08-23T19:18:04.982014Z"
    },
    "papermill": {
     "duration": 0.034071,
     "end_time": "2020-08-23T19:18:04.983156",
     "exception": false,
     "start_time": "2020-08-23T19:18:04.949085",
     "status": "completed"
    },
    "tags": []
   },
   "outputs": [
    {
     "name": "stdout",
     "output_type": "stream",
     "text": [
      "skip this step\n"
     ]
    }
   ],
   "source": [
    "# generate files missing in the cache folder\n",
    "import os\n",
    "if os.path.isfile(cache_dir/'features_list.pkl'): \n",
    "    # if this file exists, it means you are using the modified cached dataset that already has these missing files\n",
    "    print('skip this step')\n",
    "\n",
    "else:\n",
    "    data_test = ClinicalDataset(\n",
    "        root_dir=root_dir,\n",
    "        ctscans_dir=root_dir/'test',\n",
    "        mode='val',\n",
    "        transform=transforms.Compose([\n",
    "            CropBoundingBox(),\n",
    "            ConvertToHU(),\n",
    "            Resize((40, 256, 256)),\n",
    "            Clip(bounds=(-1000, 500)),\n",
    "            Mask(method=MaskMethod.MORPHOLOGICAL, threshold=-500),\n",
    "            Normalize(bounds=(-1000, -500))\n",
    "        ]))\n",
    "    data_train = ClinicalDataset(\n",
    "        root_dir=root_dir,\n",
    "        ctscans_dir=root_dir/'train',\n",
    "        mode='train',\n",
    "        transform=transforms.Compose([\n",
    "            CropBoundingBox(),\n",
    "            ConvertToHU(),\n",
    "            Resize((40, 256, 256)),\n",
    "            Clip(bounds=(-1000, 500)),\n",
    "            Mask(method=MaskMethod.MORPHOLOGICAL, threshold=-500),\n",
    "            Normalize(bounds=(-1000, -500))\n",
    "        ]))\n",
    "\n",
    "    data_test.raw.to_csv(Path(f'tabular_{data_test.mode}.csv'), index=False)\n",
    "    data_train.raw.to_csv(Path(f'tabular_{data_train.mode}.csv'), index=False)\n",
    "    with open(Path('features_list.pkl'), \"wb\") as fp:\n",
    "                pickle.dump(data_test.FE, fp)\n",
    "    \n",
    "    data_train.raw['index'] = data_train.raw.index\n",
    "    idx_unique = data_train.raw.groupby('Patient').first()['index'].values\n",
    "    bar = tqdm(idx_unique.tolist())\n",
    "    for idx in bar:\n",
    "        sample = data_train[idx]\n",
    "        patient_id = sample['metadata'].PatientID\n",
    "        torch.save(sample['image'], Path(f'{patient_id}.pt'))\n",
    "        sample['metadata'].save_as(Path(f'{patient_id}.dcm'))\n",
    "        \n",
    "    data_test.raw['index'] = data_test.raw.index\n",
    "    idx_unique = data_test.raw.groupby('Patient').first()['index'].values\n",
    "    bar = tqdm(idx_unique.tolist())\n",
    "    for idx in bar:\n",
    "        sample = data_train[idx]\n",
    "        patient_id = sample['metadata'].PatientID\n",
    "        torch.save(sample['image'], Path(f'{patient_id}.pt'))\n",
    "        sample['metadata'].save_as(Path(f'{patient_id}.dcm'))\n",
    "    \n"
   ]
  },
  {
   "cell_type": "code",
   "execution_count": 10,
   "metadata": {
    "execution": {
     "iopub.execute_input": "2020-08-23T19:18:05.020912Z",
     "iopub.status.busy": "2020-08-23T19:18:05.019961Z",
     "iopub.status.idle": "2020-08-23T19:18:05.023226Z",
     "shell.execute_reply": "2020-08-23T19:18:05.022366Z"
    },
    "papermill": {
     "duration": 0.025215,
     "end_time": "2020-08-23T19:18:05.023384",
     "exception": false,
     "start_time": "2020-08-23T19:18:04.998169",
     "status": "completed"
    },
    "tags": []
   },
   "outputs": [],
   "source": [
    "# Helper function that loads CT scans in a single array. \n",
    "# This is also new vs. baselie\n",
    "def load_scan(path):\n",
    "    slices = [pydicom.read_file(p) for p in path.glob('*.dcm')]\n",
    "    try:\n",
    "        slices.sort(key=lambda x: float(x.ImagePositionPatient[2]))\n",
    "    except AttributeError:\n",
    "        warnings.warn(f'Patient {slices[0].PatientID} CT scan does not '\n",
    "                      f'have \"ImagePositionPatient\". Assuming filenames '\n",
    "                      f'in the right scan order.')\n",
    "\n",
    "    image = np.stack([s.pixel_array.astype(float) for s in slices])\n",
    "    return image, slices[0]"
   ]
  },
  {
   "cell_type": "markdown",
   "execution_count": null,
   "metadata": {
    "papermill": {
     "duration": 0.010468,
     "end_time": "2020-08-23T19:18:05.048456",
     "exception": false,
     "start_time": "2020-08-23T19:18:05.037988",
     "status": "completed"
    },
    "tags": []
   },
   "source": [
    "## 3.1. Preprocessing CT Scans\n",
    "\n",
    "This section is new vs. the baseline notebook. It builds on a lot of great work done by several Kagglers (I'll make an effort and cite everyone)."
   ]
  },
  {
   "cell_type": "markdown",
   "execution_count": null,
   "metadata": {
    "papermill": {
     "duration": 0.010261,
     "end_time": "2020-08-23T19:18:05.068675",
     "exception": false,
     "start_time": "2020-08-23T19:18:05.058414",
     "status": "completed"
    },
    "tags": []
   },
   "source": [
    "### 3.1.1. Crop bounding boxes"
   ]
  },
  {
   "cell_type": "code",
   "execution_count": 11,
   "metadata": {
    "execution": {
     "iopub.execute_input": "2020-08-23T19:18:05.105492Z",
     "iopub.status.busy": "2020-08-23T19:18:05.104395Z",
     "iopub.status.idle": "2020-08-23T19:18:05.107953Z",
     "shell.execute_reply": "2020-08-23T19:18:05.107253Z"
    },
    "papermill": {
     "duration": 0.029126,
     "end_time": "2020-08-23T19:18:05.108095",
     "exception": false,
     "start_time": "2020-08-23T19:18:05.078969",
     "status": "completed"
    },
    "tags": []
   },
   "outputs": [],
   "source": [
    "class CropBoundingBox:\n",
    "    @staticmethod # so that bounding_box doesn't need to have an argument as self\n",
    "    def bounding_box(img3d: np.array):\n",
    "        mid_img = img3d[int(img3d.shape[0] / 2)]\n",
    "        same_first_row = (mid_img[0, :] == mid_img[0, 0]).all()\n",
    "        same_first_col = (mid_img[:, 0] == mid_img[0, 0]).all()\n",
    "        if same_first_col and same_first_row:\n",
    "            return True\n",
    "        else:\n",
    "            return False\n",
    "\n",
    "    def __call__(self, sample):\n",
    "        image = sample['image']\n",
    "        if not self.bounding_box(image):\n",
    "            return sample\n",
    "\n",
    "        mid_img = image[int(image.shape[0] / 2)]\n",
    "        r_min, r_max = None, None\n",
    "        c_min, c_max = None, None\n",
    "        for row in range(mid_img.shape[0]):\n",
    "            if not (mid_img[row, :] == mid_img[0, 0]).all() and r_min is None:\n",
    "                r_min = row\n",
    "            if (mid_img[row, :] == mid_img[0, 0]).all() and r_max is None \\\n",
    "                    and r_min is not None:\n",
    "                r_max = row\n",
    "                break\n",
    "\n",
    "        for col in range(mid_img.shape[1]):\n",
    "            if not (mid_img[:, col] == mid_img[0, 0]).all() and c_min is None:\n",
    "                c_min = col\n",
    "            if (mid_img[:, col] == mid_img[0, 0]).all() and c_max is None \\\n",
    "                    and c_min is not None:\n",
    "                c_max = col\n",
    "                break\n",
    "\n",
    "        image = image[:, r_min:r_max, c_min:c_max]\n",
    "        return {\n",
    "            'features': sample['features'],\n",
    "            'image': image,\n",
    "            'metadata': sample['metadata'],\n",
    "            'target': sample['target']\n",
    "        }"
   ]
  },
  {
   "cell_type": "markdown",
   "execution_count": null,
   "metadata": {
    "papermill": {
     "duration": 0.00985,
     "end_time": "2020-08-23T19:18:05.128713",
     "exception": false,
     "start_time": "2020-08-23T19:18:05.118863",
     "status": "completed"
    },
    "tags": []
   },
   "source": [
    "### 3.1.2. Convert to Hounsfield Units\n",
    "Getting to the code below was really painful. Credits to lots of people."
   ]
  },
  {
   "cell_type": "code",
   "execution_count": 12,
   "metadata": {
    "execution": {
     "iopub.execute_input": "2020-08-23T19:18:05.158288Z",
     "iopub.status.busy": "2020-08-23T19:18:05.157292Z",
     "iopub.status.idle": "2020-08-23T19:18:05.160533Z",
     "shell.execute_reply": "2020-08-23T19:18:05.159885Z"
    },
    "papermill": {
     "duration": 0.021969,
     "end_time": "2020-08-23T19:18:05.160677",
     "exception": false,
     "start_time": "2020-08-23T19:18:05.138708",
     "status": "completed"
    },
    "tags": []
   },
   "outputs": [],
   "source": [
    "class ConvertToHU:\n",
    "    def __call__(self, sample):\n",
    "        image, data = sample['image'], sample['metadata']\n",
    "\n",
    "        img_type = data.ImageType\n",
    "        is_hu = img_type[0] == 'ORIGINAL' and not (img_type[2] == 'LOCALIZER')\n",
    "        if not is_hu:\n",
    "            warnings.warn(f'Patient {data.PatientID} CT Scan not cannot be'\n",
    "                          f'converted to Hounsfield Units (HU).')\n",
    "\n",
    "        intercept = data.RescaleIntercept\n",
    "        slope = data.RescaleSlope\n",
    "        image = (image * slope + intercept).astype(np.int16)\n",
    "        return {\n",
    "            'features': sample['features'],\n",
    "            'image': image,\n",
    "            'metadata': data,\n",
    "            'target': sample['target']\n",
    "        }"
   ]
  },
  {
   "cell_type": "markdown",
   "execution_count": null,
   "metadata": {
    "papermill": {
     "duration": 0.010343,
     "end_time": "2020-08-23T19:18:05.181688",
     "exception": false,
     "start_time": "2020-08-23T19:18:05.171345",
     "status": "completed"
    },
    "tags": []
   },
   "source": [
    "### 3.1.3. Resize"
   ]
  },
  {
   "cell_type": "code",
   "execution_count": 13,
   "metadata": {
    "execution": {
     "iopub.execute_input": "2020-08-23T19:18:05.214135Z",
     "iopub.status.busy": "2020-08-23T19:18:05.213300Z",
     "iopub.status.idle": "2020-08-23T19:18:05.216246Z",
     "shell.execute_reply": "2020-08-23T19:18:05.216791Z"
    },
    "papermill": {
     "duration": 0.024545,
     "end_time": "2020-08-23T19:18:05.216970",
     "exception": false,
     "start_time": "2020-08-23T19:18:05.192425",
     "status": "completed"
    },
    "tags": []
   },
   "outputs": [],
   "source": [
    "class Resize:\n",
    "    def __init__(self, output_size):\n",
    "        assert isinstance(output_size, tuple)\n",
    "        self.output_size = output_size\n",
    "\n",
    "    def __call__(self, sample):\n",
    "        image = sample['image']\n",
    "        resize_factor = np.array(self.output_size) / np.array(image.shape)\n",
    "        image = zoom(image, resize_factor, mode='nearest')\n",
    "        return {\n",
    "            'features': sample['features'],\n",
    "            'image': image,\n",
    "            'metadata': sample['metadata'],\n",
    "            'target': sample['target']\n",
    "        }"
   ]
  },
  {
   "cell_type": "markdown",
   "execution_count": null,
   "metadata": {
    "papermill": {
     "duration": 0.010209,
     "end_time": "2020-08-23T19:18:05.237938",
     "exception": false,
     "start_time": "2020-08-23T19:18:05.227729",
     "status": "completed"
    },
    "tags": []
   },
   "source": [
    "### 3.1.4. Clip"
   ]
  },
  {
   "cell_type": "code",
   "execution_count": 14,
   "metadata": {
    "execution": {
     "iopub.execute_input": "2020-08-23T19:18:05.271468Z",
     "iopub.status.busy": "2020-08-23T19:18:05.270397Z",
     "iopub.status.idle": "2020-08-23T19:18:05.273806Z",
     "shell.execute_reply": "2020-08-23T19:18:05.272884Z"
    },
    "papermill": {
     "duration": 0.02461,
     "end_time": "2020-08-23T19:18:05.273991",
     "exception": false,
     "start_time": "2020-08-23T19:18:05.249381",
     "status": "completed"
    },
    "tags": []
   },
   "outputs": [],
   "source": [
    "class Clip:\n",
    "    def __init__(self, bounds=(-1000, 500)):\n",
    "        self.min = min(bounds)\n",
    "        self.max = max(bounds)\n",
    "\n",
    "    def __call__(self, sample):\n",
    "        image = sample['image']\n",
    "        image[image < self.min] = self.min\n",
    "        image[image > self.max] = self.max\n",
    "        return {\n",
    "            'features': sample['features'],\n",
    "            'image': image,\n",
    "            'metadata': sample['metadata'],\n",
    "            'target': sample['target']\n",
    "        }"
   ]
  },
  {
   "cell_type": "markdown",
   "execution_count": null,
   "metadata": {
    "papermill": {
     "duration": 0.009897,
     "end_time": "2020-08-23T19:18:05.296163",
     "exception": false,
     "start_time": "2020-08-23T19:18:05.286266",
     "status": "completed"
    },
    "tags": []
   },
   "source": [
    "### 3.1.5 Mask\n",
    "Here I basically tried 2 different methods: one [morphological](https://www.kaggle.com/miklgr500/unsupervise-lung-detection), and one using [Deep Learning](https://github.com/JoHof/lungmask). The deep learning method is extremely slow, so we go for the morphological path. The deep learning method is incomplete (thus the `raise NotImplementedError` in the code below). \n",
    "\n",
    "Credits to @[Michael Kazachok](https://www.kaggle.com/miklgr500)."
   ]
  },
  {
   "cell_type": "code",
   "execution_count": 15,
   "metadata": {
    "execution": {
     "iopub.execute_input": "2020-08-23T19:18:05.332490Z",
     "iopub.status.busy": "2020-08-23T19:18:05.326620Z",
     "iopub.status.idle": "2020-08-23T19:18:05.338125Z",
     "shell.execute_reply": "2020-08-23T19:18:05.337382Z"
    },
    "papermill": {
     "duration": 0.031236,
     "end_time": "2020-08-23T19:18:05.338257",
     "exception": false,
     "start_time": "2020-08-23T19:18:05.307021",
     "status": "completed"
    },
    "tags": []
   },
   "outputs": [],
   "source": [
    "class MaskMethod(Enum):\n",
    "    MORPHOLOGICAL = 1\n",
    "    DEEPLEARNING = 2\n",
    "\n",
    "\n",
    "class Mask:\n",
    "    def __init__(self, method=MaskMethod.MORPHOLOGICAL, threshold=-400,\n",
    "                 root_dir='../data/test'):\n",
    "        self.threshold = threshold\n",
    "        self.method = method\n",
    "        self.root_dir = root_dir\n",
    "\n",
    "    def __call__(self, sample):\n",
    "        image = sample['image']\n",
    "        if self.method == MaskMethod.MORPHOLOGICAL:\n",
    "            for slice_id in range(image.shape[0]):\n",
    "                m = self.get_morphological_mask(image[slice_id])\n",
    "                image[slice_id][m == False] = image[slice_id].min()\n",
    "        elif self.method == MaskMethod.DEEPLEARNING:\n",
    "            # m = self.get_deeplearning_mask(data.PatientID)\n",
    "            raise NotImplementedError\n",
    "        else:\n",
    "            raise ValueError('Unrecognized masking method')\n",
    "\n",
    "        return {\n",
    "            'features': sample['features'],\n",
    "            'image': image,\n",
    "            'metadata': sample['metadata'],\n",
    "            'target': sample['target']\n",
    "        }\n",
    "\n",
    "    def get_morphological_mask(self, image):\n",
    "        m = image < self.threshold\n",
    "        m = clear_border(m)\n",
    "        m = label(m)\n",
    "        areas = [r.area for r in regionprops(m)]\n",
    "        areas.sort()\n",
    "        if len(areas) > 2:\n",
    "            for region in regionprops(m):\n",
    "                if region.area < areas[-2]:\n",
    "                    for coordinates in region.coords:\n",
    "                        m[coordinates[0], coordinates[1]] = 0\n",
    "        return m > 0\n",
    "\n",
    "    def get_deeplearning_mask(self, patient_id):\n",
    "        \"\"\"Very slow, must be done using GPUs\n",
    "        \"\"\"\n",
    "        list_files = [str(x) for x in (Path(self.root_dir) / patient_id).glob('*.dcm')]\n",
    "        input_image = sitk.ReadImage(list_files)\n",
    "        m = mask.apply(input_image) #.squeeze()\n",
    "        m[m == 2] = 1\n",
    "        return m"
   ]
  },
  {
   "cell_type": "markdown",
   "execution_count": null,
   "metadata": {
    "papermill": {
     "duration": 0.01008,
     "end_time": "2020-08-23T19:18:05.358637",
     "exception": false,
     "start_time": "2020-08-23T19:18:05.348557",
     "status": "completed"
    },
    "tags": []
   },
   "source": [
    "### 3.1.6. Normalize, to tensor and zero center"
   ]
  },
  {
   "cell_type": "code",
   "execution_count": 16,
   "metadata": {
    "execution": {
     "iopub.execute_input": "2020-08-23T19:18:05.394127Z",
     "iopub.status.busy": "2020-08-23T19:18:05.393346Z",
     "iopub.status.idle": "2020-08-23T19:18:05.397354Z",
     "shell.execute_reply": "2020-08-23T19:18:05.396656Z"
    },
    "papermill": {
     "duration": 0.02796,
     "end_time": "2020-08-23T19:18:05.397493",
     "exception": false,
     "start_time": "2020-08-23T19:18:05.369533",
     "status": "completed"
    },
    "tags": []
   },
   "outputs": [],
   "source": [
    "class Normalize:\n",
    "    def __init__(self, bounds=(-1000, 500)):\n",
    "        self.min = min(bounds)\n",
    "        self.max = max(bounds)\n",
    "\n",
    "    def __call__(self, sample):\n",
    "        image = sample['image'].astype(np.float)\n",
    "        image = (image - self.min) / (self.max - self.min)\n",
    "        return {\n",
    "            'features': sample['features'],\n",
    "            'image': image,\n",
    "            'metadata': sample['metadata'],\n",
    "            'target': sample['target']\n",
    "        }\n",
    "\n",
    "\n",
    "class ToTensor:\n",
    "    def __init__(self, add_channel=True):\n",
    "        self.add_channel = add_channel\n",
    "\n",
    "    def __call__(self, sample):\n",
    "        image = sample['image']\n",
    "        if self.add_channel:\n",
    "            image = np.expand_dims(image, axis=0)\n",
    "\n",
    "        return {\n",
    "            'features': sample['features'],\n",
    "            'image': torch.from_numpy(image),\n",
    "            'metadata': sample['metadata'],\n",
    "            'target': sample['target']\n",
    "        }\n",
    "\n",
    "    \n",
    "class ZeroCenter:\n",
    "    def __init__(self, pre_calculated_mean):\n",
    "        self.pre_calculated_mean = pre_calculated_mean\n",
    "\n",
    "    def __call__(self, sample):\n",
    "        return {\n",
    "            'features': sample['features'],\n",
    "            'image': sample['image'] - self.pre_calculated_mean,\n",
    "            'metadata': sample['metadata'],\n",
    "            'target': sample['target']\n",
    "        }"
   ]
  },
  {
   "cell_type": "markdown",
   "execution_count": null,
   "metadata": {
    "papermill": {
     "duration": 0.010799,
     "end_time": "2020-08-23T19:18:05.419385",
     "exception": false,
     "start_time": "2020-08-23T19:18:05.408586",
     "status": "completed"
    },
    "tags": []
   },
   "source": [
    "## 3.2. Checking the data pipeline\n",
    "Before moving forward, let's ensure the data pipeline works"
   ]
  },
  {
   "cell_type": "code",
   "execution_count": 17,
   "metadata": {
    "execution": {
     "iopub.execute_input": "2020-08-23T19:18:05.451345Z",
     "iopub.status.busy": "2020-08-23T19:18:05.450534Z",
     "iopub.status.idle": "2020-08-23T19:18:05.454268Z",
     "shell.execute_reply": "2020-08-23T19:18:05.453651Z"
    },
    "papermill": {
     "duration": 0.024364,
     "end_time": "2020-08-23T19:18:05.454392",
     "exception": false,
     "start_time": "2020-08-23T19:18:05.430028",
     "status": "completed"
    },
    "tags": []
   },
   "outputs": [],
   "source": [
    "def show(list_imgs, cmap=cm.bone, rgb=False):\n",
    "    list_slices = []\n",
    "    for img3d in list_imgs:\n",
    "        slc = int(img3d.shape[0] / 2)\n",
    "        img = img3d[slc]\n",
    "        if rgb:\n",
    "            img = (img * 255).astype(np.int16)\n",
    "        list_slices.append(img)\n",
    "    \n",
    "    fig, axs = plt.subplots(1, 5, figsize=(15, 7))\n",
    "    for i, img in enumerate(list_slices):\n",
    "        axs[i].imshow(img, cmap=cmap)\n",
    "    \n",
    "    plt.show()"
   ]
  },
  {
   "cell_type": "code",
   "execution_count": 18,
   "metadata": {
    "execution": {
     "iopub.execute_input": "2020-08-23T19:18:05.487323Z",
     "iopub.status.busy": "2020-08-23T19:18:05.486528Z",
     "iopub.status.idle": "2020-08-23T19:19:54.101473Z",
     "shell.execute_reply": "2020-08-23T19:19:54.102057Z"
    },
    "papermill": {
     "duration": 108.63724,
     "end_time": "2020-08-23T19:19:54.102347",
     "exception": false,
     "start_time": "2020-08-23T19:18:05.465107",
     "status": "completed"
    },
    "tags": []
   },
   "outputs": [
    {
     "name": "stderr",
     "output_type": "stream",
     "text": [
      "/opt/conda/lib/python3.7/site-packages/ipykernel_launcher.py:8: UserWarning: Patient ID00421637202311550012437 CT Scan not cannot beconverted to Hounsfield Units (HU).\n",
      "  \n"
     ]
    },
    {
     "data": {
      "image/png": "[encoded data removed]",
      "text/plain": [
       "<Figure size 1080x504 with 5 Axes>"
      ]
     },
     "metadata": {
      "needs_background": "light"
     },
     "output_type": "display_data"
    }
   ],
   "source": [
    "data = ClinicalDataset(\n",
    "    root_dir=root_dir,\n",
    "    ctscans_dir=root_dir/'test',\n",
    "    mode='val',\n",
    "    transform=transforms.Compose([\n",
    "        CropBoundingBox(),\n",
    "        ConvertToHU(),\n",
    "        Resize((40, 256, 256)),\n",
    "        Clip(bounds=(-1000, 500)),\n",
    "        Mask(method=MaskMethod.MORPHOLOGICAL, threshold=-500),\n",
    "        Normalize(bounds=(-1000, -500))\n",
    "    ]))\n",
    "\n",
    "for i in range(len(data)):\n",
    "    assert data[i]['image'].shape == (40, 256, 256)\n",
    "    \n",
    "list_imgs = [data[i]['image'] for i in range(len(data))]\n",
    "show(list_imgs)"
   ]
  },
  {
   "cell_type": "code",
   "execution_count": 19,
   "metadata": {
    "execution": {
     "iopub.execute_input": "2020-08-23T19:19:54.130831Z",
     "iopub.status.busy": "2020-08-23T19:19:54.129884Z",
     "iopub.status.idle": "2020-08-23T19:19:58.957187Z",
     "shell.execute_reply": "2020-08-23T19:19:58.956278Z"
    },
    "papermill": {
     "duration": 4.844,
     "end_time": "2020-08-23T19:19:58.957346",
     "exception": false,
     "start_time": "2020-08-23T19:19:54.113346",
     "status": "completed"
    },
    "tags": []
   },
   "outputs": [
    {
     "name": "stderr",
     "output_type": "stream",
     "text": [
      "/opt/conda/lib/python3.7/site-packages/ipykernel_launcher.py:8: UserWarning: Patient ID00421637202311550012437 CT Scan not cannot beconverted to Hounsfield Units (HU).\n",
      "  \n"
     ]
    },
    {
     "name": "stdout",
     "output_type": "stream",
     "text": [
      "[1.         0.         1.         0.         0.         0.48717949\n",
      " 0.42784787 0.17901235 0.32020802]\n"
     ]
    }
   ],
   "source": [
    "print(data[1]['features'])"
   ]
  },
  {
   "cell_type": "markdown",
   "execution_count": null,
   "metadata": {
    "papermill": {
     "duration": 0.012289,
     "end_time": "2020-08-23T19:19:58.982346",
     "exception": false,
     "start_time": "2020-08-23T19:19:58.970057",
     "status": "completed"
    },
    "tags": []
   },
   "source": [
    "# 4. Models and loss\n",
    "The differences vs. the baseline notebook are highlighted in the code."
   ]
  },
  {
   "cell_type": "markdown",
   "execution_count": null,
   "metadata": {
    "papermill": {
     "duration": 0.015042,
     "end_time": "2020-08-23T19:19:59.010042",
     "exception": false,
     "start_time": "2020-08-23T19:19:58.995000",
     "status": "completed"
    },
    "tags": []
   },
   "source": [
    "## 4.1. Quant model"
   ]
  },
  {
   "cell_type": "markdown",
   "execution_count": null,
   "metadata": {
    "papermill": {
     "duration": 0.011445,
     "end_time": "2020-08-23T19:19:59.034837",
     "exception": false,
     "start_time": "2020-08-23T19:19:59.023392",
     "status": "completed"
    },
    "tags": []
   },
   "source": [
    "see https://medium.com/the-artificial-impostor/quantile-regression-part-1-e25bdd8d9d43\n",
    "and \n",
    "https://medium.com/the-artificial-impostor/quantile-regression-part-2-6fdbc26b2629\n",
    "\n",
    "Source code：\n",
    "https://github.com/ceshine/quantile-regression-tensorflow"
   ]
  },
  {
   "cell_type": "code",
   "execution_count": 20,
   "metadata": {
    "execution": {
     "iopub.execute_input": "2020-08-23T19:19:59.071799Z",
     "iopub.status.busy": "2020-08-23T19:19:59.070503Z",
     "iopub.status.idle": "2020-08-23T19:19:59.077491Z",
     "shell.execute_reply": "2020-08-23T19:19:59.076604Z"
    },
    "papermill": {
     "duration": 0.031016,
     "end_time": "2020-08-23T19:19:59.077691",
     "exception": false,
     "start_time": "2020-08-23T19:19:59.046675",
     "status": "completed"
    },
    "tags": []
   },
   "outputs": [],
   "source": [
    "class QuantModel(nn.Module):\n",
    "    def __init__(self, in_tabular_features=9, in_ctscan_features=76800,\n",
    "                 out_quantiles=3):\n",
    "        # nn.Module is parent class, QuantModel is child class,\n",
    "        # with this super().__init__, QuantModel inherit things from nn.Module.\n",
    "        super(QuantModel, self).__init__() \n",
    "    \n",
    "        # This line is new. We need to know a priori the number\n",
    "        # of latent features to properly flatten the tensor\n",
    "        self.in_ctscan_features = in_ctscan_features\n",
    "\n",
    "        self.fc1 = nn.Linear(in_tabular_features, 512)\n",
    "        self.fc2 = nn.Linear(in_ctscan_features, 512)\n",
    "        self.fc3 = nn.Linear(1024, 512)\n",
    "        self.fc4 = nn.Linear(512, out_quantiles)\n",
    "    \n",
    "    # this is the real algorithm after all the layers are defined\n",
    "    def forward(self, x1, x2):\n",
    "        # Now the quant model has 2 inputs: x1 (the tabular features)\n",
    "        # and x2 (the pre-computed latent features)\n",
    "        x1 = F.relu(self.fc1(x1))\n",
    "        \n",
    "        # Flattens the latent features and concatenate with tabular features\n",
    "        x2 = x2.view(-1, self.in_ctscan_features)\n",
    "        x2 = F.relu(self.fc2(x2))\n",
    "        x = torch.cat([x1, x2], dim=1)\n",
    "        \n",
    "        x = F.relu(self.fc3(x))\n",
    "        x = self.fc4(x)\n",
    "        return x"
   ]
  },
  {
   "cell_type": "markdown",
   "execution_count": null,
   "metadata": {
    "papermill": {
     "duration": 0.014933,
     "end_time": "2020-08-23T19:19:59.104958",
     "exception": false,
     "start_time": "2020-08-23T19:19:59.090025",
     "status": "completed"
    },
    "tags": []
   },
   "source": [
    "## 4.2. Quant loss\n",
    "No news here vs. baseline notebook. Again, credits to [Ceshine Lee's quantile regression tutorial](https://medium.com/the-artificial-impostor/quantile-regression-part-2-6fdbc26b2629)."
   ]
  },
  {
   "cell_type": "code",
   "execution_count": 21,
   "metadata": {
    "execution": {
     "iopub.execute_input": "2020-08-23T19:19:59.143015Z",
     "iopub.status.busy": "2020-08-23T19:19:59.141967Z",
     "iopub.status.idle": "2020-08-23T19:19:59.146132Z",
     "shell.execute_reply": "2020-08-23T19:19:59.145372Z"
    },
    "papermill": {
     "duration": 0.025691,
     "end_time": "2020-08-23T19:19:59.146271",
     "exception": false,
     "start_time": "2020-08-23T19:19:59.120580",
     "status": "completed"
    },
    "tags": []
   },
   "outputs": [],
   "source": [
    "def quantile_loss(preds, target, quantiles):\n",
    "    assert not target.requires_grad\n",
    "    assert preds.size(0) == target.size(0)\n",
    "    losses = []\n",
    "    for i, q in enumerate(quantiles):\n",
    "        errors = target - preds[:, i]\n",
    "        losses.append(torch.max((q - 1) * errors, q * errors).unsqueeze(1))\n",
    "    loss = torch.mean(torch.sum(torch.cat(losses, dim=1), dim=1))\n",
    "    return loss"
   ]
  },
  {
   "cell_type": "markdown",
   "execution_count": null,
   "metadata": {
    "papermill": {
     "duration": 0.011586,
     "end_time": "2020-08-23T19:19:59.170478",
     "exception": false,
     "start_time": "2020-08-23T19:19:59.158892",
     "status": "completed"
    },
    "tags": []
   },
   "source": [
    "## 4.3. AutoEncoder\n",
    "This is new vs. baseline notebook. As mentioned, the auto-encoder was pre-trained in another notebook. I won't include the pre-training code here otherwise this notebook will become even larger.\n",
    "\n",
    "Credits to [Srinjay Paul's 3D Convolutional autoencoder for brain volumes tutorial](https://srinjaypaul.github.io/3D_Convolutional_autoencoder_for_brain_volumes/)."
   ]
  },
  {
   "cell_type": "code",
   "execution_count": 22,
   "metadata": {
    "execution": {
     "iopub.execute_input": "2020-08-23T19:19:59.218740Z",
     "iopub.status.busy": "2020-08-23T19:19:59.212845Z",
     "iopub.status.idle": "2020-08-23T19:19:59.223057Z",
     "shell.execute_reply": "2020-08-23T19:19:59.222173Z"
    },
    "papermill": {
     "duration": 0.038899,
     "end_time": "2020-08-23T19:19:59.223240",
     "exception": false,
     "start_time": "2020-08-23T19:19:59.184341",
     "status": "completed"
    },
    "tags": []
   },
   "outputs": [],
   "source": [
    "class AutoEncoder(nn.Module):\n",
    "    def __init__(self):\n",
    "        super(AutoEncoder, self).__init__()\n",
    "        # Encoder\n",
    "        self.conv1 = nn.Conv3d(1, 16, 3) # (input channel,output channel, kernel_size)\n",
    "        self.conv2 = nn.Conv3d(16, 32, 3)\n",
    "        self.conv3 = nn.Conv3d(32, 96, 2)\n",
    "        self.pool1 = nn.MaxPool3d(kernel_size=2, stride=2, return_indices=True)\n",
    "        self.pool2 = nn.MaxPool3d(kernel_size=3, stride=3, return_indices=True)\n",
    "        self.pool3 = nn.MaxPool3d(kernel_size=2, stride=2, return_indices=True)\n",
    "        # Decoder\n",
    "        self.deconv1 = nn.ConvTranspose3d(96, 32, 2)\n",
    "        self.deconv2 = nn.ConvTranspose3d(32, 16, 3)\n",
    "        self.deconv3 = nn.ConvTranspose3d(16, 1, 3)\n",
    "        self.unpool1 = nn.MaxUnpool3d(kernel_size=2, stride=2)\n",
    "        self.unpool2 = nn.MaxUnpool3d(kernel_size=3, stride=3)\n",
    "        self.unpool3 = nn.MaxUnpool3d(kernel_size=2, stride=2)\n",
    "\n",
    "    def encode(self, x, return_partials=True):\n",
    "        # Encoder\n",
    "        x = self.conv1(x)\n",
    "        up3out_shape = x.shape\n",
    "        x, i1 = self.pool1(x)\n",
    "        x = self.conv2(x)\n",
    "        up2out_shape = x.shape\n",
    "        x, i2 = self.pool2(x)\n",
    "        x = self.conv3(x)\n",
    "        up1out_shape = x.shape\n",
    "        x, i3 = self.pool3(x)\n",
    "\n",
    "        if return_partials:\n",
    "            return x, up3out_shape, i1, up2out_shape, i2, up1out_shape, i3\n",
    "        else:\n",
    "            return x\n",
    "\n",
    "    def forward(self, x):\n",
    "        x, up3out_shape, i1, up2out_shape, i2, up1out_shape, i3 = self.encode(x)\n",
    "\n",
    "        # Decoder\n",
    "        x = self.unpool1(x, output_size=up1out_shape, indices=i3)\n",
    "        x = self.deconv1(x)\n",
    "        x = self.unpool2(x, output_size=up2out_shape, indices=i2)\n",
    "        x = self.deconv2(x)\n",
    "        x = self.unpool3(x, output_size=up3out_shape, indices=i1)\n",
    "        x = self.deconv3(x)\n",
    "\n",
    "        return x"
   ]
  },
  {
   "cell_type": "markdown",
   "execution_count": null,
   "metadata": {
    "papermill": {
     "duration": 0.013191,
     "end_time": "2020-08-23T19:19:59.249855",
     "exception": false,
     "start_time": "2020-08-23T19:19:59.236664",
     "status": "completed"
    },
    "tags": []
   },
   "source": [
    "## 4.4. Cache all pre-processed 3D CT Scans and pre-compute all latent features\n",
    "It takes ~15 minutes to pre-process all 3D CT scan. To accelerate, I already pre-cached the dataset and made it available in [this public dataset](https://www.kaggle.com/carlossouza/osic-cached-dataset). If you want to do it, the code to cache the dataset is `dataset.cache(cache_dir)`. \n",
    "\n",
    "With the dataset cached, let's pre-compute all latent features. (Not pre-computing them would lead to very slow training...):"
   ]
  },
  {
   "cell_type": "code",
   "execution_count": 23,
   "metadata": {
    "execution": {
     "iopub.execute_input": "2020-08-23T19:19:59.287364Z",
     "iopub.status.busy": "2020-08-23T19:19:59.286511Z",
     "iopub.status.idle": "2020-08-23T19:19:59.292538Z",
     "shell.execute_reply": "2020-08-23T19:19:59.291914Z"
    },
    "papermill": {
     "duration": 0.029133,
     "end_time": "2020-08-23T19:19:59.292703",
     "exception": false,
     "start_time": "2020-08-23T19:19:59.263570",
     "status": "completed"
    },
    "tags": []
   },
   "outputs": [],
   "source": [
    "# Helper function that generates all latent features\n",
    "class GenerateLatentFeatures:\n",
    "    def __init__(self, autoencoder, latent_dir):\n",
    "        self.autoencoder = autoencoder\n",
    "        self.latent_dir = Path(latent_dir)\n",
    "        self.cache_dir = Path(cache_dir)\n",
    "\n",
    "    def __call__(self, sample):\n",
    "        patient_id = sample['metadata'].PatientID\n",
    "        cached_latent_file = self.latent_dir/f'{patient_id}_lat.pt'\n",
    "\n",
    "        if cached_latent_file.is_file():\n",
    "            latent_features = torch.load(cached_latent_file)\n",
    "        else:\n",
    "            with torch.no_grad():\n",
    "                img = sample['image'].float().unsqueeze(0)\n",
    "                latent_features = self.autoencoder.encode(\n",
    "                    img, return_partials=False).squeeze(0)\n",
    "            torch.save(latent_features, cached_latent_file)\n",
    "\n",
    "        return {\n",
    "            'tabular_features': sample['features'],\n",
    "            'latent_features': latent_features,\n",
    "            'target': sample['target']\n",
    "        }"
   ]
  },
  {
   "cell_type": "markdown",
   "execution_count": null,
   "metadata": {
    "papermill": {
     "duration": 0.012762,
     "end_time": "2020-08-23T19:19:59.318246",
     "exception": false,
     "start_time": "2020-08-23T19:19:59.305484",
     "status": "completed"
    },
    "tags": []
   },
   "source": [
    "The code below loops through all samples in the dataset, pre-computes the latent features, and cache them in disk as well.\n",
    "This step is not necessary if latent features are already provided in the output."
   ]
  },
  {
   "cell_type": "code",
   "execution_count": 24,
   "metadata": {
    "execution": {
     "iopub.execute_input": "2020-08-23T19:19:59.355019Z",
     "iopub.status.busy": "2020-08-23T19:19:59.354281Z",
     "iopub.status.idle": "2020-08-23T19:23:01.580537Z",
     "shell.execute_reply": "2020-08-23T19:23:01.579939Z"
    },
    "papermill": {
     "duration": 182.249674,
     "end_time": "2020-08-23T19:23:01.580673",
     "exception": false,
     "start_time": "2020-08-23T19:19:59.330999",
     "status": "completed"
    },
    "tags": []
   },
   "outputs": [
    {
     "name": "stderr",
     "output_type": "stream",
     "text": [
      "100%|██████████| 1535/1535 [03:02<00:00,  8.43it/s]\n"
     ]
    }
   ],
   "source": [
    "total_patient_num = np.array(sorted(gb.glob(os.path.join(root_dir,'train', os.path.normpath('*'))))).shape[0]\n",
    "if np.array(sorted(gb.glob(os.path.join('/kaggle/working/latent', os.path.normpath('*.pt'))))).shape[0] == total_patient_num:\n",
    "    print('Already have latent features, skip this step!')\n",
    "else:\n",
    "    autoencoder = AutoEncoder()\n",
    "    autoencoder.load_state_dict(torch.load(\n",
    "        pretrained_ae_weigths,\n",
    "        map_location=torch.device('cpu')\n",
    "    ))\n",
    "    autoencoder.to(device)\n",
    "    autoencoder.eval()\n",
    "\n",
    "    data = ClinicalDataset(\n",
    "        root_dir=root_dir,\n",
    "        ctscans_dir=root_dir/'train',\n",
    "        cache_dir=cache_dir,\n",
    "        mode='train',\n",
    "        transform=GenerateLatentFeatures(autoencoder, latent_dir)\n",
    "    )\n",
    "    for i in trange(len(data)):\n",
    "        sample = data[i]\n",
    "        assert sample['latent_features'].shape == (96, 2, 20, 20)"
   ]
  },
  {
   "cell_type": "markdown",
   "execution_count": null,
   "metadata": {
    "papermill": {
     "duration": 0.02395,
     "end_time": "2020-08-23T19:23:01.630352",
     "exception": false,
     "start_time": "2020-08-23T19:23:01.606402",
     "status": "completed"
    },
    "tags": []
   },
   "source": [
    "## 4.5. Overfit a small batch before moving forward (can skip)\n",
    "As observed by Andrej Karpathy ([A Recipe for Training Neural Networks](http://karpathy.github.io/2019/04/25/recipe/)), neural net training fail silently. Before moving to full blown training, let's overfit a small batch: if we observe the loss decreasing, it is a sign that we probably did not make any obvious mistakes so far."
   ]
  },
  {
   "cell_type": "code",
   "execution_count": 25,
   "metadata": {
    "execution": {
     "iopub.execute_input": "2020-08-23T19:23:01.685228Z",
     "iopub.status.busy": "2020-08-23T19:23:01.684296Z",
     "iopub.status.idle": "2020-08-23T19:23:01.687412Z",
     "shell.execute_reply": "2020-08-23T19:23:01.686722Z"
    },
    "papermill": {
     "duration": 0.033139,
     "end_time": "2020-08-23T19:23:01.687535",
     "exception": false,
     "start_time": "2020-08-23T19:23:01.654396",
     "status": "completed"
    },
    "tags": []
   },
   "outputs": [],
   "source": [
    "# dataloader = DataLoader(data, batch_size=batch_size,\n",
    "#                         shuffle=True, num_workers=2)\n",
    "# batch = next(iter(dataloader))\n",
    "\n",
    "# model = QuantModel().to(device)\n",
    "# optimizer = torch.optim.Adam(model.parameters(), lr=1e-3)\n",
    "\n",
    "# bar = trange(50)\n",
    "# for epoch in bar:\n",
    "#     inputs1 = batch['tabular_features'].float().to(device)\n",
    "#     inputs2 = batch['latent_features'].float().to(device)\n",
    "#     targets = batch['target'].to(device)\n",
    "\n",
    "#     optimizer.zero_grad()\n",
    "#     preds = model(inputs1, inputs2)\n",
    "#     loss = quantile_loss(preds, targets, quantiles)\n",
    "#     loss.backward()\n",
    "#     if use_TPU:\n",
    "#         xm.optimizer_step(optimizer, barrier=True)\n",
    "#     else:\n",
    "#         optimizer.step()\n",
    "    \n",
    "\n",
    "#     bar.set_postfix(loss=f'{loss.item():0.1f}')"
   ]
  },
  {
   "cell_type": "markdown",
   "execution_count": null,
   "metadata": {
    "papermill": {
     "duration": 0.024386,
     "end_time": "2020-08-23T19:23:01.736936",
     "exception": false,
     "start_time": "2020-08-23T19:23:01.712550",
     "status": "completed"
    },
    "tags": []
   },
   "source": [
    "# 5. Training\n",
    "I made 2 main changes here:\n",
    "1. Code is adjusted to run on TPU. It is not optimized (uses only 1 of the 8 cores), but does the job... Anyway, the last version does everything on CPU\n",
    "2. It is NOT doing Kfold CV. Code is back to doing simple Group Shuffle split. Main reason is that I did not see noticeable improvement from doing a simple split vs. KFold. When we were only using tabular data, no problem doing 5 folds. Now, every fold takes some time. As next step, an idea would be run every fold in parallel, in one of the 8 TPU cores, as I saw in one of the TPU tutorials. But that's for later"
   ]
  },
  {
   "cell_type": "code",
   "execution_count": 26,
   "metadata": {
    "execution": {
     "iopub.execute_input": "2020-08-23T19:23:01.798717Z",
     "iopub.status.busy": "2020-08-23T19:23:01.797300Z",
     "iopub.status.idle": "2020-08-23T19:23:01.800659Z",
     "shell.execute_reply": "2020-08-23T19:23:01.800064Z"
    },
    "papermill": {
     "duration": 0.037809,
     "end_time": "2020-08-23T19:23:01.800808",
     "exception": false,
     "start_time": "2020-08-23T19:23:01.762999",
     "status": "completed"
    },
    "tags": []
   },
   "outputs": [],
   "source": [
    "# Helper generator that group splits\n",
    "def group_split(dataset, groups, test_size=0.2):\n",
    "    gss = GroupShuffleSplit(n_splits=1, test_size=test_size)\n",
    "    idx = list(gss.split(dataset.raw, dataset.raw, groups))\n",
    "    train = Subset(dataset, idx[0][0])\n",
    "    val = Subset(dataset, idx[0][1])\n",
    "    return train, val\n",
    "        \n",
    "# Helper function with competition metric\n",
    "def metric(preds, targets):\n",
    "    sigma = preds[:, 2] - preds[:, 0]\n",
    "    sigma[sigma < 70] = 70\n",
    "    delta = (preds[:, 1] - targets).abs()\n",
    "    delta[delta > 1000] = 1000\n",
    "    return -np.sqrt(2) * delta / sigma - torch.log(np.sqrt(2) * sigma)"
   ]
  },
  {
   "cell_type": "code",
   "execution_count": 27,
   "metadata": {
    "execution": {
     "iopub.execute_input": "2020-08-23T19:23:01.877569Z",
     "iopub.status.busy": "2020-08-23T19:23:01.876726Z",
     "iopub.status.idle": "2020-08-23T19:48:11.164911Z",
     "shell.execute_reply": "2020-08-23T19:48:11.165702Z"
    },
    "papermill": {
     "duration": 1509.338933,
     "end_time": "2020-08-23T19:48:11.166001",
     "exception": false,
     "start_time": "2020-08-23T19:23:01.827068",
     "status": "completed"
    },
    "tags": []
   },
   "outputs": [
    {
     "name": "stdout",
     "output_type": "stream",
     "text": [
      "50\n"
     ]
    },
    {
     "name": "stderr",
     "output_type": "stream",
     "text": [
      "Epoch 0 train       : 100%|██████████| 39/39 [00:21<00:00,  1.78it/s, loss=1853.5, metric=-11.0985]\n",
      "Epoch 0 val         : 100%|██████████| 10/10 [00:03<00:00,  2.53it/s, loss=870.5, metric=-8.1909]\n",
      "Epoch 1 train       : 100%|██████████| 39/39 [00:22<00:00,  1.75it/s, loss=753.1, metric=-8.1069]\n",
      "Epoch 1 val         : 100%|██████████| 10/10 [00:03<00:00,  2.68it/s, loss=839.7, metric=-8.1384]\n",
      "Epoch 2 train       : 100%|██████████| 39/39 [00:22<00:00,  1.76it/s, loss=644.7, metric=-7.9833]\n",
      "Epoch 2 val         : 100%|██████████| 10/10 [00:03<00:00,  2.51it/s, loss=835.0, metric=-8.0463]\n",
      "Epoch 3 train       : 100%|██████████| 39/39 [00:22<00:00,  1.77it/s, loss=519.8, metric=-7.7730]\n",
      "Epoch 3 val         : 100%|██████████| 10/10 [00:03<00:00,  2.51it/s, loss=811.2, metric=-8.0363]\n",
      "Epoch 4 train       : 100%|██████████| 39/39 [00:22<00:00,  1.74it/s, loss=404.0, metric=-7.5172]\n",
      "Epoch 4 val         : 100%|██████████| 10/10 [00:04<00:00,  2.44it/s, loss=839.3, metric=-8.2170]\n",
      "Epoch 5 train       : 100%|██████████| 39/39 [00:22<00:00,  1.71it/s, loss=352.0, metric=-7.3852]\n",
      "Epoch 5 val         : 100%|██████████| 10/10 [00:03<00:00,  2.60it/s, loss=834.8, metric=-8.3966]\n",
      "Epoch 6 train       : 100%|██████████| 39/39 [00:21<00:00,  1.78it/s, loss=254.7, metric=-7.0454]\n",
      "Epoch 6 val         : 100%|██████████| 10/10 [00:03<00:00,  2.51it/s, loss=854.4, metric=-8.5718]\n",
      "Epoch 7 train       : 100%|██████████| 39/39 [00:22<00:00,  1.70it/s, loss=220.8, metric=-6.8998]\n",
      "Epoch 7 val         : 100%|██████████| 10/10 [00:03<00:00,  2.53it/s, loss=824.6, metric=-8.7345]\n",
      "Epoch 8 train       : 100%|██████████| 39/39 [00:21<00:00,  1.78it/s, loss=191.7, metric=-6.7415]\n",
      "Epoch 8 val         : 100%|██████████| 10/10 [00:04<00:00,  2.48it/s, loss=840.0, metric=-9.1110]\n",
      "Epoch 9 train       : 100%|██████████| 39/39 [00:22<00:00,  1.72it/s, loss=174.4, metric=-6.6504]\n",
      "Epoch 9 val         : 100%|██████████| 10/10 [00:04<00:00,  2.36it/s, loss=836.7, metric=-8.9721]\n",
      "Epoch 10 train      : 100%|██████████| 39/39 [00:22<00:00,  1.70it/s, loss=165.0, metric=-6.6048]\n",
      "Epoch 10 val        : 100%|██████████| 10/10 [00:04<00:00,  2.38it/s, loss=831.6, metric=-8.9057]\n",
      "Epoch 11 train      : 100%|██████████| 39/39 [00:36<00:00,  1.07it/s, loss=194.6, metric=-6.8057]\n",
      "Epoch 11 val        : 100%|██████████| 10/10 [00:04<00:00,  2.42it/s, loss=791.8, metric=-8.4128]\n",
      "Epoch 12 train      : 100%|██████████| 39/39 [00:22<00:00,  1.73it/s, loss=161.7, metric=-6.5964]\n",
      "Epoch 12 val        : 100%|██████████| 10/10 [00:04<00:00,  2.35it/s, loss=842.7, metric=-9.4999]\n",
      "Epoch 13 train      : 100%|██████████| 39/39 [00:22<00:00,  1.75it/s, loss=159.6, metric=-6.5915]\n",
      "Epoch 13 val        : 100%|██████████| 10/10 [00:04<00:00,  2.38it/s, loss=830.5, metric=-9.0317]\n",
      "Epoch 14 train      : 100%|██████████| 39/39 [00:22<00:00,  1.76it/s, loss=169.2, metric=-6.6617]\n",
      "Epoch 14 val        : 100%|██████████| 10/10 [00:03<00:00,  2.50it/s, loss=823.7, metric=-9.4631]\n",
      "Epoch 15 train      : 100%|██████████| 39/39 [00:22<00:00,  1.71it/s, loss=153.6, metric=-6.5351]\n",
      "Epoch 15 val        : 100%|██████████| 10/10 [00:04<00:00,  2.48it/s, loss=820.6, metric=-9.0279]\n",
      "Epoch 16 train      : 100%|██████████| 39/39 [00:26<00:00,  1.49it/s, loss=161.1, metric=-6.5883]\n",
      "Epoch 16 val        : 100%|██████████| 10/10 [00:04<00:00,  2.41it/s, loss=818.8, metric=-9.4594]\n",
      "Epoch 17 train      : 100%|██████████| 39/39 [00:28<00:00,  1.37it/s, loss=146.2, metric=-6.4834]\n",
      "Epoch 17 val        : 100%|██████████| 10/10 [00:03<00:00,  2.54it/s, loss=799.2, metric=-8.8899]\n",
      "Epoch 18 train      : 100%|██████████| 39/39 [00:30<00:00,  1.29it/s, loss=147.0, metric=-6.4898]\n",
      "Epoch 18 val        : 100%|██████████| 10/10 [00:03<00:00,  2.53it/s, loss=840.7, metric=-10.1203]\n",
      "Epoch 19 train      : 100%|██████████| 39/39 [00:31<00:00,  1.25it/s, loss=179.7, metric=-6.7303]\n",
      "Epoch 19 val        : 100%|██████████| 10/10 [00:03<00:00,  2.53it/s, loss=799.1, metric=-8.8561]\n",
      "Epoch 20 train      : 100%|██████████| 39/39 [00:30<00:00,  1.29it/s, loss=157.7, metric=-6.5779]\n",
      "Epoch 20 val        : 100%|██████████| 10/10 [00:03<00:00,  2.58it/s, loss=803.4, metric=-9.0549]\n",
      "Epoch 21 train      : 100%|██████████| 39/39 [00:28<00:00,  1.39it/s, loss=147.8, metric=-6.5135]\n",
      "Epoch 21 val        : 100%|██████████| 10/10 [00:03<00:00,  2.63it/s, loss=799.0, metric=-9.3865]\n",
      "Epoch 22 train      : 100%|██████████| 39/39 [00:27<00:00,  1.44it/s, loss=137.0, metric=-6.4091]\n",
      "Epoch 22 val        : 100%|██████████| 10/10 [00:03<00:00,  2.76it/s, loss=802.3, metric=-9.8842]\n",
      "Epoch 23 train      : 100%|██████████| 39/39 [00:28<00:00,  1.39it/s, loss=136.7, metric=-6.4115]\n",
      "Epoch 23 val        : 100%|██████████| 10/10 [00:03<00:00,  2.67it/s, loss=781.8, metric=-8.7459]\n",
      "Epoch 24 train      : 100%|██████████| 39/39 [00:31<00:00,  1.25it/s, loss=144.1, metric=-6.4680]\n",
      "Epoch 24 val        : 100%|██████████| 10/10 [00:04<00:00,  2.47it/s, loss=801.3, metric=-10.3080]\n",
      "Epoch 25 train      : 100%|██████████| 39/39 [00:28<00:00,  1.38it/s, loss=156.1, metric=-6.5877]\n",
      "Epoch 25 val        : 100%|██████████| 10/10 [00:04<00:00,  2.42it/s, loss=798.6, metric=-9.9834]\n",
      "Epoch 26 train      : 100%|██████████| 39/39 [00:26<00:00,  1.45it/s, loss=157.0, metric=-6.6018]\n",
      "Epoch 26 val        : 100%|██████████| 10/10 [00:03<00:00,  2.60it/s, loss=772.4, metric=-8.9391]\n",
      "Epoch 27 train      : 100%|██████████| 39/39 [00:26<00:00,  1.45it/s, loss=150.3, metric=-6.5379]\n",
      "Epoch 27 val        : 100%|██████████| 10/10 [00:04<00:00,  2.40it/s, loss=750.0, metric=-8.5661]\n",
      "Epoch 28 train      : 100%|██████████| 39/39 [00:27<00:00,  1.43it/s, loss=145.3, metric=-6.5106]\n",
      "Epoch 28 val        : 100%|██████████| 10/10 [00:04<00:00,  2.47it/s, loss=765.9, metric=-9.0415]\n",
      "Epoch 29 train      : 100%|██████████| 39/39 [00:27<00:00,  1.41it/s, loss=129.6, metric=-6.3713]\n",
      "Epoch 29 val        : 100%|██████████| 10/10 [00:03<00:00,  2.61it/s, loss=756.1, metric=-8.8626]\n",
      "Epoch 30 train      : 100%|██████████| 39/39 [00:27<00:00,  1.41it/s, loss=136.7, metric=-6.4380]\n",
      "Epoch 30 val        : 100%|██████████| 10/10 [00:04<00:00,  2.13it/s, loss=758.1, metric=-9.1976]\n",
      "Epoch 31 train      : 100%|██████████| 39/39 [00:34<00:00,  1.13it/s, loss=133.3, metric=-6.4020]\n",
      "Epoch 31 val        : 100%|██████████| 10/10 [00:03<00:00,  2.72it/s, loss=767.8, metric=-9.4744]\n",
      "Epoch 32 train      : 100%|██████████| 39/39 [00:27<00:00,  1.42it/s, loss=138.9, metric=-6.4703]\n",
      "Epoch 32 val        : 100%|██████████| 10/10 [00:03<00:00,  2.81it/s, loss=768.3, metric=-9.9343]\n",
      "Epoch 33 train      : 100%|██████████| 39/39 [00:26<00:00,  1.47it/s, loss=134.5, metric=-6.4048]\n",
      "Epoch 33 val        : 100%|██████████| 10/10 [00:03<00:00,  2.80it/s, loss=748.3, metric=-8.8046]\n",
      "Epoch 34 train      : 100%|██████████| 39/39 [00:26<00:00,  1.46it/s, loss=139.3, metric=-6.4469]\n",
      "Epoch 34 val        : 100%|██████████| 10/10 [00:03<00:00,  2.85it/s, loss=743.2, metric=-9.0782]\n",
      "Epoch 35 train      : 100%|██████████| 39/39 [00:26<00:00,  1.45it/s, loss=129.4, metric=-6.3805]\n",
      "Epoch 35 val        : 100%|██████████| 10/10 [00:03<00:00,  2.80it/s, loss=754.1, metric=-9.1986]\n",
      "Epoch 36 train      : 100%|██████████| 39/39 [00:26<00:00,  1.45it/s, loss=145.4, metric=-6.5003]\n",
      "Epoch 36 val        : 100%|██████████| 10/10 [00:03<00:00,  2.77it/s, loss=765.7, metric=-10.2663]\n",
      "Epoch 37 train      : 100%|██████████| 39/39 [00:26<00:00,  1.49it/s, loss=148.2, metric=-6.5358]\n",
      "Epoch 37 val        : 100%|██████████| 10/10 [00:03<00:00,  2.94it/s, loss=755.7, metric=-10.4798]\n",
      "Epoch 38 train      : 100%|██████████| 39/39 [00:26<00:00,  1.46it/s, loss=135.3, metric=-6.4223]\n",
      "Epoch 38 val        : 100%|██████████| 10/10 [00:03<00:00,  2.89it/s, loss=735.3, metric=-9.3770]\n",
      "Epoch 39 train      : 100%|██████████| 39/39 [00:26<00:00,  1.49it/s, loss=138.8, metric=-6.4539]\n",
      "Epoch 39 val        : 100%|██████████| 10/10 [00:03<00:00,  2.84it/s, loss=712.6, metric=-8.7551]\n",
      "Epoch 40 train      : 100%|██████████| 39/39 [00:26<00:00,  1.46it/s, loss=129.6, metric=-6.3856]\n",
      "Epoch 40 val        : 100%|██████████| 10/10 [00:03<00:00,  2.98it/s, loss=708.5, metric=-8.6443]\n",
      "Epoch 41 train      : 100%|██████████| 39/39 [00:26<00:00,  1.46it/s, loss=131.3, metric=-6.4044]\n",
      "Epoch 41 val        : 100%|██████████| 10/10 [00:03<00:00,  2.86it/s, loss=719.2, metric=-9.0012]\n",
      "Epoch 42 train      : 100%|██████████| 39/39 [00:26<00:00,  1.46it/s, loss=133.2, metric=-6.4214]\n",
      "Epoch 42 val        : 100%|██████████| 10/10 [00:03<00:00,  3.11it/s, loss=714.0, metric=-9.1383]\n",
      "Epoch 43 train      : 100%|██████████| 39/39 [00:26<00:00,  1.47it/s, loss=130.9, metric=-6.4049]\n",
      "Epoch 43 val        : 100%|██████████| 10/10 [00:03<00:00,  2.94it/s, loss=712.4, metric=-9.4859]\n",
      "Epoch 44 train      : 100%|██████████| 39/39 [00:26<00:00,  1.45it/s, loss=123.5, metric=-6.3151]\n",
      "Epoch 44 val        : 100%|██████████| 10/10 [00:03<00:00,  3.09it/s, loss=697.6, metric=-9.0606]\n",
      "Epoch 45 train      : 100%|██████████| 39/39 [00:26<00:00,  1.46it/s, loss=127.2, metric=-6.3625]\n",
      "Epoch 45 val        : 100%|██████████| 10/10 [00:03<00:00,  3.04it/s, loss=702.9, metric=-9.1141]\n",
      "Epoch 46 train      : 100%|██████████| 39/39 [00:26<00:00,  1.46it/s, loss=123.3, metric=-6.3264]\n",
      "Epoch 46 val        : 100%|██████████| 10/10 [00:03<00:00,  3.05it/s, loss=693.3, metric=-9.0495]\n",
      "Epoch 47 train      : 100%|██████████| 39/39 [00:26<00:00,  1.49it/s, loss=121.1, metric=-6.3002]\n",
      "Epoch 47 val        : 100%|██████████| 10/10 [00:03<00:00,  2.83it/s, loss=715.8, metric=-10.2216]\n",
      "Epoch 48 train      : 100%|██████████| 39/39 [00:26<00:00,  1.46it/s, loss=128.6, metric=-6.3615]\n",
      "Epoch 48 val        : 100%|██████████| 10/10 [00:03<00:00,  2.99it/s, loss=690.3, metric=-9.3895]\n",
      "Epoch 49 train      : 100%|██████████| 39/39 [00:26<00:00,  1.48it/s, loss=121.7, metric=-6.3136]\n",
      "Epoch 49 val        : 100%|██████████| 10/10 [00:03<00:00,  2.98it/s, loss=672.1, metric=-8.8659]\n"
     ]
    },
    {
     "name": "stdout",
     "output_type": "stream",
     "text": [
      "Training complete! Time: 0:25:09.249336\n"
     ]
    }
   ],
   "source": [
    "# Load the data\n",
    "print(num_epochs\n",
    "     )\n",
    "autoencoder = AutoEncoder()\n",
    "autoencoder.load_state_dict(torch.load(\n",
    "    pretrained_ae_weigths,\n",
    "    map_location=torch.device('cpu')\n",
    "))\n",
    "autoencoder.eval()\n",
    "\n",
    "data = ClinicalDataset(\n",
    "    root_dir=root_dir,\n",
    "    ctscans_dir=root_dir/'train',\n",
    "    cache_dir=cache_dir,\n",
    "    mode='train',\n",
    "    transform=GenerateLatentFeatures(autoencoder, latent_dir)\n",
    ")\n",
    "\n",
    "trainset, valset = group_split(data, data.raw['Patient'], test_size)\n",
    "t0 = time()\n",
    "\n",
    "# Prepare to save model weights\n",
    "Path(model_dir).mkdir(parents=True, exist_ok=True)\n",
    "now = datetime.now()\n",
    "fname = f'{model_name}-{now.year}{now.month:02d}{now.day:02d}.pth'\n",
    "model_file = Path(model_dir) / fname\n",
    "\n",
    "dataset_sizes = {'train': len(trainset), 'val': len(valset)}\n",
    "dataloaders = {\n",
    "    'train': DataLoader(trainset, batch_size=batch_size,\n",
    "                        shuffle=True, num_workers=2),\n",
    "    'val': DataLoader(valset, batch_size=batch_size,\n",
    "                      shuffle=False, num_workers=2)\n",
    "}\n",
    "\n",
    "# Create the model and optimizer\n",
    "model = QuantModel().to(device)\n",
    "optimizer = torch.optim.Adam(model.parameters(), lr=learning_rate)\n",
    "\n",
    "# Set global tracking variables\n",
    "epoch_loss = {'train': np.inf, 'val': np.inf}\n",
    "epoch_metric = {'train': -np.inf, 'val': -np.inf}\n",
    "best_loss = np.inf\n",
    "best_model_wts = None\n",
    "df = pd.DataFrame(columns=['epoch', 'train_loss', 'val_loss'])\n",
    "\n",
    "# Training loop\n",
    "for epoch in range(num_epochs):\n",
    "    for phase in ['train', 'val']:\n",
    "        if phase == 'train':\n",
    "            model.train()  # Set model to training mode\n",
    "        else:\n",
    "            model.eval()   # Set model to evaluate mode\n",
    "\n",
    "        running_loss = 0.0\n",
    "        running_metric = 0.0\n",
    "\n",
    "        # Iterate over data\n",
    "        num_samples = 0\n",
    "        bar = tqdm(dataloaders[phase])\n",
    "        for batch in bar:\n",
    "            bar.set_description(f'Epoch {epoch} {phase}'.ljust(20))\n",
    "            inputs1 = batch['tabular_features'].float().to(device)\n",
    "            inputs2 = batch['latent_features'].float().to(device)\n",
    "            targets = batch['target'].to(device)\n",
    "\n",
    "            # zero the parameter gradients\n",
    "            optimizer.zero_grad()\n",
    "            # forward\n",
    "            # track gradients if only in train\n",
    "            with torch.set_grad_enabled(phase == 'train'):\n",
    "                preds = model(inputs1, inputs2)\n",
    "                loss = quantile_loss(preds, targets, quantiles)\n",
    "                # backward + optimize only if in training phase\n",
    "                if phase == 'train':\n",
    "                    loss.backward()\n",
    "                    if use_TPU:\n",
    "                        xm.optimizer_step(optimizer, barrier=True)\n",
    "                    else:\n",
    "                        optimizer.step()\n",
    "\n",
    "            running_loss += loss.item() * inputs1.size(0)\n",
    "            running_metric += metric(preds, targets).sum()\n",
    "\n",
    "            # batch statistics\n",
    "            num_samples += inputs1.size(0)\n",
    "            bar.set_postfix(loss=f'{running_loss / num_samples:0.1f}',\n",
    "                            metric=f'{running_metric / num_samples:0.4f}')\n",
    "\n",
    "        # epoch statistics\n",
    "        epoch_loss[phase] = running_loss / dataset_sizes[phase]\n",
    "        epoch_metric[phase] = running_metric / dataset_sizes[phase]\n",
    "\n",
    "        # deep copy the model\n",
    "        if phase == 'val' and epoch_loss['val'] < best_loss:\n",
    "            best_loss = epoch_loss['val']\n",
    "            best_model_wts = copy.deepcopy(model.state_dict())\n",
    "            torch.save(best_model_wts, model_file)\n",
    "\n",
    "    df = df.append({\n",
    "        'epoch': epoch + 1,\n",
    "        'train_loss': epoch_loss[\"train\"],\n",
    "        'val_loss': epoch_loss[\"val\"]\n",
    "    }, ignore_index=True)\n",
    "\n",
    "# Save training statistics\n",
    "fname = f'{model_name}-{now.year}{now.month:02d}{now.day:02d}.csv'\n",
    "csv_file = Path(model_dir) / fname\n",
    "df.to_csv(csv_file, index=False)\n",
    "\n",
    "# load best model weights\n",
    "model.load_state_dict(best_model_wts)\n",
    "\n",
    "print(f'Training complete! Time: {timedelta(seconds=time() - t0)}')\n",
    "models = [model]"
   ]
  },
  {
   "cell_type": "markdown",
   "execution_count": null,
   "metadata": {
    "papermill": {
     "duration": 0.329467,
     "end_time": "2020-08-23T19:48:11.838043",
     "exception": false,
     "start_time": "2020-08-23T19:48:11.508576",
     "status": "completed"
    },
    "tags": []
   },
   "source": [
    "# 6. Generating submission CSV\n",
    "No change vs. baseline notebook"
   ]
  },
  {
   "cell_type": "code",
   "execution_count": 28,
   "metadata": {
    "execution": {
     "iopub.execute_input": "2020-08-23T19:48:12.562401Z",
     "iopub.status.busy": "2020-08-23T19:48:12.561699Z",
     "iopub.status.idle": "2020-08-23T19:49:02.623513Z",
     "shell.execute_reply": "2020-08-23T19:49:02.616039Z"
    },
    "papermill": {
     "duration": 50.403382,
     "end_time": "2020-08-23T19:49:02.623740",
     "exception": false,
     "start_time": "2020-08-23T19:48:12.220358",
     "status": "completed"
    },
    "tags": []
   },
   "outputs": [
    {
     "name": "stderr",
     "output_type": "stream",
     "text": [
      " 20%|██        | 1/5 [00:02<00:09,  2.39s/it]/opt/conda/lib/python3.7/site-packages/ipykernel_launcher.py:8: UserWarning: Patient ID00421637202311550012437 CT Scan not cannot beconverted to Hounsfield Units (HU).\n",
      "  \n",
      "100%|██████████| 5/5 [00:49<00:00,  9.99s/it]\n"
     ]
    }
   ],
   "source": [
    "data = ClinicalDataset(\n",
    "    root_dir=root_dir,\n",
    "    ctscans_dir=root_dir/'test',\n",
    "    mode='test',\n",
    "    transform=transforms.Compose([\n",
    "        CropBoundingBox(),\n",
    "        ConvertToHU(),\n",
    "        Resize((40, 256, 256)),\n",
    "        Clip(bounds=(-1000, 500)),\n",
    "        Mask(method=MaskMethod.MORPHOLOGICAL, threshold=-500),\n",
    "        Normalize(bounds=(-1000, -500)),\n",
    "        ToTensor(),\n",
    "        ZeroCenter(pre_calculated_mean=0.029105728564346046)\n",
    "    ]))\n",
    "\n",
    "data.cache(latent_dir)"
   ]
  },
  {
   "cell_type": "code",
   "execution_count": 29,
   "metadata": {
    "execution": {
     "iopub.execute_input": "2020-08-23T19:49:03.377757Z",
     "iopub.status.busy": "2020-08-23T19:49:03.374695Z",
     "iopub.status.idle": "2020-08-23T19:49:07.719735Z",
     "shell.execute_reply": "2020-08-23T19:49:07.720478Z"
    },
    "papermill": {
     "duration": 4.686667,
     "end_time": "2020-08-23T19:49:07.720696",
     "exception": false,
     "start_time": "2020-08-23T19:49:03.034029",
     "status": "completed"
    },
    "tags": []
   },
   "outputs": [
    {
     "name": "stderr",
     "output_type": "stream",
     "text": [
      "100%|██████████| 23/23 [00:04<00:00,  5.34it/s]\n"
     ]
    }
   ],
   "source": [
    "data = ClinicalDataset(\n",
    "    root_dir=root_dir,\n",
    "    ctscans_dir=root_dir/'test',\n",
    "    cache_dir=latent_dir,\n",
    "    mode='test',\n",
    "    transform=GenerateLatentFeatures(autoencoder, latent_dir)\n",
    ")\n",
    "\n",
    "avg_preds = np.zeros((len(data), len(quantiles)))\n",
    "\n",
    "for model in models:\n",
    "    dataloader = DataLoader(data, batch_size=batch_size,\n",
    "                            shuffle=False, num_workers=2)\n",
    "    preds = []\n",
    "    for batch in tqdm(dataloader):\n",
    "        inputs1 = batch['tabular_features'].float()\n",
    "        inputs2 = batch['latent_features'].float()\n",
    "        with torch.no_grad():\n",
    "            preds.append(model(inputs1, inputs2))\n",
    "\n",
    "    preds = torch.cat(preds, dim=0).numpy()\n",
    "    avg_preds += preds\n",
    "\n",
    "avg_preds /= len(models)\n",
    "df = pd.DataFrame(data=avg_preds, columns=list(quantiles))\n",
    "df['Patient_Week'] = data.raw['Patient_Week']\n",
    "df['FVC'] = df[quantiles[1]]\n",
    "df['Confidence'] = df[quantiles[2]] - df[quantiles[0]]\n",
    "df = df.drop(columns=list(quantiles))\n",
    "df.to_csv('submission.csv', index=False)"
   ]
  },
  {
   "cell_type": "code",
   "execution_count": 30,
   "metadata": {
    "execution": {
     "iopub.execute_input": "2020-08-23T19:49:08.469317Z",
     "iopub.status.busy": "2020-08-23T19:49:08.468538Z",
     "iopub.status.idle": "2020-08-23T19:49:08.479795Z",
     "shell.execute_reply": "2020-08-23T19:49:08.479106Z"
    },
    "papermill": {
     "duration": 0.423345,
     "end_time": "2020-08-23T19:49:08.479933",
     "exception": false,
     "start_time": "2020-08-23T19:49:08.056588",
     "status": "completed"
    },
    "tags": []
   },
   "outputs": [
    {
     "name": "stdout",
     "output_type": "stream",
     "text": [
      "730\n"
     ]
    },
    {
     "data": {
      "text/html": [
       "<div>\n",
       "<style scoped>\n",
       "    .dataframe tbody tr th:only-of-type {\n",
       "        vertical-align: middle;\n",
       "    }\n",
       "\n",
       "    .dataframe tbody tr th {\n",
       "        vertical-align: top;\n",
       "    }\n",
       "\n",
       "    .dataframe thead th {\n",
       "        text-align: right;\n",
       "    }\n",
       "</style>\n",
       "<table border=\"1\" class=\"dataframe\">\n",
       "  <thead>\n",
       "    <tr style=\"text-align: right;\">\n",
       "      <th></th>\n",
       "      <th>Patient_Week</th>\n",
       "      <th>FVC</th>\n",
       "      <th>Confidence</th>\n",
       "    </tr>\n",
       "  </thead>\n",
       "  <tbody>\n",
       "    <tr>\n",
       "      <th>0</th>\n",
       "      <td>ID00419637202311204720264_-12</td>\n",
       "      <td>2673.832031</td>\n",
       "      <td>221.181152</td>\n",
       "    </tr>\n",
       "    <tr>\n",
       "      <th>1</th>\n",
       "      <td>ID00419637202311204720264_-11</td>\n",
       "      <td>2671.075195</td>\n",
       "      <td>221.063965</td>\n",
       "    </tr>\n",
       "    <tr>\n",
       "      <th>2</th>\n",
       "      <td>ID00419637202311204720264_-10</td>\n",
       "      <td>2668.273438</td>\n",
       "      <td>220.946777</td>\n",
       "    </tr>\n",
       "    <tr>\n",
       "      <th>3</th>\n",
       "      <td>ID00419637202311204720264_-9</td>\n",
       "      <td>2665.459473</td>\n",
       "      <td>220.828857</td>\n",
       "    </tr>\n",
       "    <tr>\n",
       "      <th>4</th>\n",
       "      <td>ID00419637202311204720264_-8</td>\n",
       "      <td>2662.645752</td>\n",
       "      <td>220.711670</td>\n",
       "    </tr>\n",
       "  </tbody>\n",
       "</table>\n",
       "</div>"
      ],
      "text/plain": [
       "                    Patient_Week          FVC  Confidence\n",
       "0  ID00419637202311204720264_-12  2673.832031  221.181152\n",
       "1  ID00419637202311204720264_-11  2671.075195  221.063965\n",
       "2  ID00419637202311204720264_-10  2668.273438  220.946777\n",
       "3   ID00419637202311204720264_-9  2665.459473  220.828857\n",
       "4   ID00419637202311204720264_-8  2662.645752  220.711670"
      ]
     },
     "execution_count": 30,
     "metadata": {},
     "output_type": "execute_result"
    }
   ],
   "source": [
    "print(len(df))\n",
    "df.head()"
   ]
  },
  {
   "cell_type": "markdown",
   "execution_count": null,
   "metadata": {
    "papermill": {
     "duration": 0.333884,
     "end_time": "2020-08-23T19:49:09.148276",
     "exception": false,
     "start_time": "2020-08-23T19:49:08.814392",
     "status": "completed"
    },
    "tags": []
   },
   "source": [
    "# 7. Conclusions and next steps\n",
    "- The process is working, end-to-end\n",
    "- However, it is very slow... need to figure out how to accelerate\n",
    "- Need to experiment/tune hyperparameters to improve metric\n",
    "- The final steps are very ugly, should refactor"
   ]
  },
  {
   "cell_type": "code",
   "execution_count": null,
   "metadata": {
    "papermill": {
     "duration": 0.332119,
     "end_time": "2020-08-23T19:49:09.894645",
     "exception": false,
     "start_time": "2020-08-23T19:49:09.562526",
     "status": "completed"
    },
    "tags": []
   },
   "outputs": [],
   "source": []
  }
 ],
 "metadata": {
  "kernelspec": {
   "display_name": "Python 3",
   "language": "python",
   "name": "python3"
  },
  "language_info": {
   "codemirror_mode": {
    "name": "ipython",
    "version": 3
   },
   "file_extension": ".py",
   "mimetype": "text/x-python",
   "name": "python",
   "nbconvert_exporter": "python",
   "pygments_lexer": "ipython3",
   "version": "3.7.6"
  },
  "papermill": {
   "duration": 1878.657492,
   "end_time": "2020-08-23T19:49:10.342668",
   "environment_variables": {},
   "exception": null,
   "input_path": "__notebook__.ipynb",
   "output_path": "__notebook__.ipynb",
   "parameters": {},
   "start_time": "2020-08-23T19:17:51.685176",
   "version": "2.1.0"
  }
 },
 "nbformat": 4,
 "nbformat_minor": 4
}
